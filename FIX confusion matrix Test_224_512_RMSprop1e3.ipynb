{
 "cells": [
  {
   "cell_type": "code",
   "execution_count": 15,
   "metadata": {},
   "outputs": [],
   "source": [
    "import numpy as np\n",
    "import pandas as pd\n",
    "import matplotlib.pyplot as plt\n",
    "import skimage.io\n",
    "import os \n",
    "import tqdm\n",
    "import glob\n",
    "import tensorflow \n",
    "\n",
    "from tqdm import tqdm\n",
    "from sklearn.utils import shuffle\n",
    "from sklearn.model_selection import train_test_split\n",
    "\n",
    "from skimage.io import imread, imshow\n",
    "from skimage.transform import resize\n",
    "from skimage.color import grey2rgb\n",
    "\n",
    "from tensorflow.keras.preprocessing.image import ImageDataGenerator\n",
    "from tensorflow.keras.preprocessing import image_dataset_from_directory\n",
    "from tensorflow.keras.models import Sequential\n",
    "from tensorflow.keras.layers import InputLayer, BatchNormalization, Dropout, Flatten, Dense, Activation, MaxPool2D, Conv2D, AveragePooling2D\n",
    "from tensorflow.keras.callbacks import EarlyStopping, ModelCheckpoint\n",
    "\n",
    "import efficientnet.keras as enet"
   ]
  },
  {
   "cell_type": "code",
   "execution_count": 16,
   "metadata": {},
   "outputs": [
    {
     "data": {
      "text/html": [
       "<div>\n",
       "<style scoped>\n",
       "    .dataframe tbody tr th:only-of-type {\n",
       "        vertical-align: middle;\n",
       "    }\n",
       "\n",
       "    .dataframe tbody tr th {\n",
       "        vertical-align: top;\n",
       "    }\n",
       "\n",
       "    .dataframe thead th {\n",
       "        text-align: right;\n",
       "    }\n",
       "</style>\n",
       "<table border=\"1\" class=\"dataframe\">\n",
       "  <thead>\n",
       "    <tr style=\"text-align: right;\">\n",
       "      <th></th>\n",
       "      <th>image</th>\n",
       "      <th>categories</th>\n",
       "    </tr>\n",
       "  </thead>\n",
       "  <tbody>\n",
       "    <tr>\n",
       "      <th>138</th>\n",
       "      <td>test/MildDemented/31 (24).jpg</td>\n",
       "      <td>MildDemented</td>\n",
       "    </tr>\n",
       "    <tr>\n",
       "      <th>1004</th>\n",
       "      <td>test/VeryMildDemented/29 (15).jpg</td>\n",
       "      <td>VeryMildDemented</td>\n",
       "    </tr>\n",
       "    <tr>\n",
       "      <th>869</th>\n",
       "      <td>test/VeryMildDemented/27 (2).jpg</td>\n",
       "      <td>VeryMildDemented</td>\n",
       "    </tr>\n",
       "    <tr>\n",
       "      <th>43</th>\n",
       "      <td>test/MildDemented/28 (14).jpg</td>\n",
       "      <td>MildDemented</td>\n",
       "    </tr>\n",
       "    <tr>\n",
       "      <th>265</th>\n",
       "      <td>test/NonDemented/27 (40).jpg</td>\n",
       "      <td>NonDemented</td>\n",
       "    </tr>\n",
       "    <tr>\n",
       "      <th>...</th>\n",
       "      <td>...</td>\n",
       "      <td>...</td>\n",
       "    </tr>\n",
       "    <tr>\n",
       "      <th>347</th>\n",
       "      <td>test/NonDemented/28 (24).jpg</td>\n",
       "      <td>NonDemented</td>\n",
       "    </tr>\n",
       "    <tr>\n",
       "      <th>552</th>\n",
       "      <td>test/NonDemented/30 (29).jpg</td>\n",
       "      <td>NonDemented</td>\n",
       "    </tr>\n",
       "    <tr>\n",
       "      <th>875</th>\n",
       "      <td>test/VeryMildDemented/27 (25).jpg</td>\n",
       "      <td>VeryMildDemented</td>\n",
       "    </tr>\n",
       "    <tr>\n",
       "      <th>262</th>\n",
       "      <td>test/NonDemented/27 (38).jpg</td>\n",
       "      <td>NonDemented</td>\n",
       "    </tr>\n",
       "    <tr>\n",
       "      <th>1265</th>\n",
       "      <td>test/VeryMildDemented/32 (61).jpg</td>\n",
       "      <td>VeryMildDemented</td>\n",
       "    </tr>\n",
       "  </tbody>\n",
       "</table>\n",
       "<p>1279 rows × 2 columns</p>\n",
       "</div>"
      ],
      "text/plain": [
       "                                  image        categories\n",
       "138       test/MildDemented/31 (24).jpg      MildDemented\n",
       "1004  test/VeryMildDemented/29 (15).jpg  VeryMildDemented\n",
       "869    test/VeryMildDemented/27 (2).jpg  VeryMildDemented\n",
       "43        test/MildDemented/28 (14).jpg      MildDemented\n",
       "265        test/NonDemented/27 (40).jpg       NonDemented\n",
       "...                                 ...               ...\n",
       "347        test/NonDemented/28 (24).jpg       NonDemented\n",
       "552        test/NonDemented/30 (29).jpg       NonDemented\n",
       "875   test/VeryMildDemented/27 (25).jpg  VeryMildDemented\n",
       "262        test/NonDemented/27 (38).jpg       NonDemented\n",
       "1265  test/VeryMildDemented/32 (61).jpg  VeryMildDemented\n",
       "\n",
       "[1279 rows x 2 columns]"
      ]
     },
     "execution_count": 16,
     "metadata": {},
     "output_type": "execute_result"
    }
   ],
   "source": [
    "path_datatest = \"test\"\n",
    "lists_dir_datatest = os.listdir(path_datatest)\n",
    "categories_datatest = []\n",
    "file_name_datatest = []\n",
    "for folder in lists_dir_datatest:\n",
    "    files = os.listdir(path_datatest +\"/\"+folder)\n",
    "    for file in files:\n",
    "        path_file = path_datatest + \"/\" + folder + \"/\" + file\n",
    "        file_name_datatest.append(path_file)\n",
    "        categories_datatest.append(folder)\n",
    "\n",
    "df_datatest = {\"image\": file_name_datatest,\"categories\":categories_datatest}\n",
    "data_datatest = pd.DataFrame(df_datatest, index = None)\n",
    "data_datatest = data_datatest.sample(frac=1)\n",
    "nb_samples=data_datatest.shape[0]\n",
    "data_datatest"
   ]
  },
  {
   "cell_type": "code",
   "execution_count": 17,
   "metadata": {},
   "outputs": [
    {
     "name": "stdout",
     "output_type": "stream",
     "text": [
      "Found 1279 validated image filenames.\n"
     ]
    }
   ],
   "source": [
    "test_gen = ImageDataGenerator(rescale=1./255)\n",
    "test_generator = test_gen.flow_from_dataframe(\n",
    "    dataframe=data_datatest, \n",
    "    dir=path_datatest, \n",
    "    x_col='image',\n",
    "    y_col=None,\n",
    "    class_mode=None,\n",
    "    target_size=(224,224),\n",
    "    batch_size=64,\n",
    "    shuffle=False\n",
    ")"
   ]
  },
  {
   "cell_type": "code",
   "execution_count": 18,
   "metadata": {},
   "outputs": [],
   "source": [
    "from keras.models import load_model\n",
    "model = load_model('./model_tuning224_512_RMSprop1e3.h5')"
   ]
  },
  {
   "cell_type": "code",
   "execution_count": 19,
   "metadata": {},
   "outputs": [],
   "source": [
    "predict= model.predict(test_generator, batch_size=64)\n",
    "pred = np.argmax(predict, axis=1)"
   ]
  },
  {
   "cell_type": "code",
   "execution_count": 20,
   "metadata": {},
   "outputs": [
    {
     "data": {
      "text/plain": [
       "array([3, 3, 3, ..., 3, 2, 2], dtype=int64)"
      ]
     },
     "execution_count": 20,
     "metadata": {},
     "output_type": "execute_result"
    }
   ],
   "source": [
    "pred"
   ]
  },
  {
   "cell_type": "code",
   "execution_count": 21,
   "metadata": {},
   "outputs": [
    {
     "data": {
      "text/plain": [
       "array([0, 3, 3, ..., 3, 2, 3], dtype=int64)"
      ]
     },
     "execution_count": 21,
     "metadata": {},
     "output_type": "execute_result"
    }
   ],
   "source": [
    "true_classes=np.array(data_datatest['categories'].replace(['MildDemented', 'ModerateDemented', 'NonDemented', 'VeryMildDemented'],[0,1,2,3,]))\n",
    "true_classes"
   ]
  },
  {
   "cell_type": "code",
   "execution_count": 22,
   "metadata": {},
   "outputs": [
    {
     "data": {
      "text/plain": [
       "array([[ 74,   0,  59,  46],\n",
       "       [  0,  10,   0,   2],\n",
       "       [  1,   0, 557,  82],\n",
       "       [  4,   0, 127, 317]], dtype=int64)"
      ]
     },
     "execution_count": 22,
     "metadata": {},
     "output_type": "execute_result"
    }
   ],
   "source": [
    "from sklearn.metrics import confusion_matrix, classification_report\n",
    "import seaborn as sns\n",
    "cm = confusion_matrix(true_classes,pred)\n",
    "cm"
   ]
  },
  {
   "cell_type": "code",
   "execution_count": 23,
   "metadata": {},
   "outputs": [
    {
     "data": {
      "text/plain": [
       "['0', '1', '2', '3']"
      ]
     },
     "execution_count": 23,
     "metadata": {},
     "output_type": "execute_result"
    }
   ],
   "source": [
    "class_labels=['0','1','2','3']\n",
    "class_labels"
   ]
  },
  {
   "cell_type": "code",
   "execution_count": 24,
   "metadata": {},
   "outputs": [],
   "source": [
    "from sklearn import metrics\n",
    "from sklearn.metrics import accuracy_score, confusion_matrix, precision_recall_fscore_support, auc"
   ]
  },
  {
   "cell_type": "code",
   "execution_count": 25,
   "metadata": {},
   "outputs": [
    {
     "name": "stdout",
     "output_type": "stream",
     "text": [
      "              precision    recall  f1-score   support\n",
      "\n",
      "           0       0.94      0.41      0.57       179\n",
      "           1       1.00      0.83      0.91        12\n",
      "           2       0.75      0.87      0.81       640\n",
      "           3       0.71      0.71      0.71       448\n",
      "\n",
      "    accuracy                           0.75      1279\n",
      "   macro avg       0.85      0.71      0.75      1279\n",
      "weighted avg       0.76      0.75      0.74      1279\n",
      "\n"
     ]
    }
   ],
   "source": [
    "report=metrics.classification_report(true_classes, pred,target_names=class_labels)\n",
    "print(report)"
   ]
  },
  {
   "cell_type": "code",
   "execution_count": 27,
   "metadata": {},
   "outputs": [
    {
     "data": {
      "image/png": "[encoded data removed]",
      "text/plain": [
       "<Figure size 1080x720 with 2 Axes>"
      ]
     },
     "metadata": {},
     "output_type": "display_data"
    }
   ],
   "source": [
    "fig, ax = plt.subplots(figsize=(15,10))\n",
    "plt.rcParams.update({'font.size': 16})\n",
    "sns.set(font_scale=1.0) #edited as suggested\n",
    "sns.heatmap(cm, annot=True, ax=ax, cmap=\"Blues\", fmt=\"g\");  \n",
    "\n",
    "# Labels, title and ticks\n",
    "label_font = {'size':'18'}  # Adjust to fit\n",
    "ax.set_xlabel('Predicted labels', fontdict=label_font);\n",
    "ax.set_ylabel('Actual labels', fontdict=label_font);\n",
    "\n",
    "title_font = {'size':'21'}  # Adjust to fit\n",
    "ax.set_title('Confusion Matrix', fontdict=title_font);\n",
    "plt.title('CNN EfficientNet-B0 \\nAlzheimers Dataset Testing')\n",
    "\n",
    "ax.tick_params(axis='both', which='major', labelsize=13)  # Adjust to fit\n",
    "ax.xaxis.set_ticklabels(['MildDemented', 'ModerateDemented', 'NonDemented', 'VeryMildDemented']);\n",
    "ax.yaxis.set_ticklabels(['MildDemented', 'ModerateDemented', 'NonDemented', 'VeryMildDemented']);"
   ]
  },
  {
   "cell_type": "code",
   "execution_count": null,
   "metadata": {},
   "outputs": [],
   "source": []
  }
 ],
 "metadata": {
  "kernelspec": {
   "display_name": "Python 3",
   "language": "python",
   "name": "python3"
  },
  "language_info": {
   "codemirror_mode": {
    "name": "ipython",
    "version": 3
   },
   "file_extension": ".py",
   "mimetype": "text/x-python",
   "name": "python",
   "nbconvert_exporter": "python",
   "pygments_lexer": "ipython3",
   "version": "3.8.3"
  }
 },
 "nbformat": 4,
 "nbformat_minor": 2
}
